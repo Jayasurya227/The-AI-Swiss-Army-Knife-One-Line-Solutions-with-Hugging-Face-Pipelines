{
  "nbformat": 4,
  "nbformat_minor": 0,
  "metadata": {
    "colab": {
      "provenance": [],
      "authorship_tag": "ABX9TyM8Yw+srsotUzxveXbhkhe4",
      "include_colab_link": true
    },
    "kernelspec": {
      "name": "python3",
      "display_name": "Python 3"
    },
    "language_info": {
      "name": "python"
    }
  },
  "cells": [
    {
      "cell_type": "markdown",
      "metadata": {
        "id": "view-in-github",
        "colab_type": "text"
      },
      "source": [
        "<a href=\"https://colab.research.google.com/github/Jayasurya227/The-AI-Swiss-Army-Knife-One-Line-Solutions-with-Hugging-Face-Pipelines/blob/main/The_AI_Swiss_Army_Knife_One_Line_Solutions_with_Hugging_Face_Pipelines.ipynb\" target=\"_parent\"><img src=\"https://colab.research.google.com/assets/colab-badge.svg\" alt=\"Open In Colab\"/></a>"
      ]
    },
    {
      "cell_type": "markdown",
      "source": [
        "**Requirments**"
      ],
      "metadata": {
        "id": "nHezjRAeje0P"
      }
    },
    {
      "cell_type": "code",
      "source": [
        "!pip install transformers\n",
        "\n",
        "import requests\n",
        "from io import BytesIO\n",
        "from transformers import pipeline\n",
        "from PIL import Image, ImageDraw\n",
        "\n",
        "import matplotlib.pyplot as plt"
      ],
      "metadata": {
        "id": "m1KYHhIorxCU"
      },
      "execution_count": null,
      "outputs": []
    },
    {
      "cell_type": "markdown",
      "source": [
        "**Sentiment Analysis**"
      ],
      "metadata": {
        "id": "WNcbm6tjjxOH"
      }
    },
    {
      "cell_type": "code",
      "source": [
        "sentiment_analyzer = pipeline('sentiment-analysis', model=\"FacebookAI/roberta-large-mnli\")\n",
        "\n",
        "text = \"I love using Hugging Face pipelines, they are so easy to use!\"\n",
        "result = sentiment_analyzer(text)\n",
        "\n",
        "print(result)\n",
        "print(result[0]['label'])\n",
        "print(result[0]['score'])"
      ],
      "metadata": {
        "id": "6-R4l_xssd_F"
      },
      "execution_count": null,
      "outputs": []
    },
    {
      "cell_type": "markdown",
      "source": [
        "**Text Summarization**"
      ],
      "metadata": {
        "id": "CXkF0SYhj5oM"
      }
    },
    {
      "cell_type": "code",
      "source": [
        "summarizer = pipeline('summarization')\n",
        "\n",
        "text = \"\"\"\n",
        "Hugging Face is an artificial intelligence company based in New York City and Paris. It is most famous for its Transformers library, a Python library for building, training, and deploying models based on the transformer architecture. The library is widely used for natural language processing tasks such as text classification, sentiment analysis, question answering, and text generation. Hugging Face also provides a platform for hosting and sharing machine learning models, datasets, and demos. The company has become a central hub for the open-source AI community, with a focus on democratizing AI through open models and tools.\n",
        "\"\"\"\n",
        "\n",
        "summary = summarizer(text, max_length=50, min_length=10, do_sample=False)\n",
        "\n",
        "print(summary[0]['summary_text'])"
      ],
      "metadata": {
        "id": "9QiKizMWsbMF"
      },
      "execution_count": null,
      "outputs": []
    },
    {
      "cell_type": "markdown",
      "source": [
        "**Question And Answering**"
      ],
      "metadata": {
        "id": "uBE_UPZ8kLkv"
      }
    },
    {
      "cell_type": "code",
      "source": [
        "question_answerer = pipeline('question-answering')\n",
        "\n",
        "context = \"\"\"\n",
        "Hugging Face is an artificial intelligence company based in New York City and Paris. It is most famous for its Transformers library, a Python library for building, training, and deploying models based on the transformer architecture. The library is widely used for natural language processing tasks such as text classification, sentiment analysis, question answering, and text generation. Hugging Face also provides a platform for hosting and sharing machine learning models, datasets, and demos. The company has become a central hub for the open-source AI community, with a focus on democratizing AI through open models and tools.\n",
        "\"\"\"\n",
        "question = \"Where is Hugging Face based?\"\n",
        "\n",
        "answer = question_answerer(question=question, context=context)\n",
        "\n",
        "print(answer)"
      ],
      "metadata": {
        "id": "X0Zkkp_TsYor"
      },
      "execution_count": null,
      "outputs": []
    },
    {
      "cell_type": "markdown",
      "source": [
        "**Named Entity Recognation**"
      ],
      "metadata": {
        "id": "Ou0WFuQukse3"
      }
    },
    {
      "cell_type": "code",
      "source": [
        "ner_pipeline = pipeline('ner', grouped_entities=True)\n",
        "\n",
        "text = \"Apple is a company located in New York City and Paris but I like Oranges more\"\n",
        "\n",
        "entities = ner_pipeline(text)\n",
        "\n",
        "print(entities)"
      ],
      "metadata": {
        "id": "6bXJ-c9zsWJd"
      },
      "execution_count": null,
      "outputs": []
    },
    {
      "cell_type": "markdown",
      "source": [
        "**Text Generation**"
      ],
      "metadata": {
        "id": "20q1bUrFk1bH"
      }
    },
    {
      "cell_type": "code",
      "source": [
        "text_generator = pipeline('text-generation')\n",
        "\n",
        "prompt = \"The quick brown fox jumps over the lazy\"\n",
        "\n",
        "generated_text = text_generator(prompt, max_length=30, num_return_sequences=1)\n",
        "\n",
        "print(generated_text[0]['generated_text'])"
      ],
      "metadata": {
        "id": "yAh0-1v_sS9P"
      },
      "execution_count": null,
      "outputs": []
    },
    {
      "cell_type": "markdown",
      "source": [
        "**Image Classification**"
      ],
      "metadata": {
        "id": "rWVOfKIrk_XY"
      }
    },
    {
      "cell_type": "code",
      "source": [
        "image_classifier = pipeline(\"image-classification\")\n",
        "\n",
        "image_url = \"http://images.cocodataset.org/val2017/000000039769.jpg\"\n",
        "response = requests.get(image_url)\n",
        "image = Image.open(BytesIO(response.content))\n",
        "\n",
        "classification_results = image_classifier(image)\n",
        "\n",
        "\n",
        "plt.imshow(image)\n",
        "plt.axis(\"off\")\n",
        "plt.show()\n",
        "\n",
        "\n",
        "for classes in classification_results[:2]:\n",
        "  print(classes['label'], classes['score'])"
      ],
      "metadata": {
        "id": "rWmeHeQSsO4z"
      },
      "execution_count": null,
      "outputs": []
    },
    {
      "cell_type": "code",
      "source": [
        "object_detector = pipeline(\"object-detection\")\n",
        "\n",
        "image_url = \"http://images.cocodataset.org/val2017/000000039769.jpg\"\n",
        "response = requests.get(image_url)\n",
        "image = Image.open(BytesIO(response.content))\n",
        "\n",
        "detection_results = object_detector(image)\n",
        "print(detection_results)\n",
        "\n",
        "draw = ImageDraw.Draw(image)\n",
        "for obj in detection_results:\n",
        "    box = obj[\"box\"]\n",
        "    label = obj[\"label\"]\n",
        "    score = obj[\"score\"]\n",
        "\n",
        "    # Draw rectangle\n",
        "    draw.rectangle(\n",
        "        [(box[\"xmin\"], box[\"ymin\"]), (box[\"xmax\"], box[\"ymax\"])],\n",
        "        outline=\"blue\", width=7\n",
        "    )\n",
        "    # Add label + score\n",
        "    draw.text((box[\"xmin\"], box[\"ymin\"] - 10), f\"{label} ({score:.2f})\", fill=\"red\")\n",
        "\n",
        "\n",
        "plt.imshow(image)\n",
        "plt.axis(\"off\")\n",
        "plt.show()"
      ],
      "metadata": {
        "id": "5M-1yp12sKEf"
      },
      "execution_count": null,
      "outputs": []
    },
    {
      "cell_type": "markdown",
      "source": [
        "**Image Segmantation**"
      ],
      "metadata": {
        "id": "mcXFncEHmBOk"
      }
    },
    {
      "cell_type": "code",
      "source": [
        "image_segmentor = pipeline(\"image-segmentation\")\n",
        "\n",
        "image_url = \"http://images.cocodataset.org/val2017/000000039769.jpg\"\n",
        "response = requests.get(image_url)\n",
        "image = Image.open(BytesIO(response.content))\n",
        "\n",
        "segmentation_results = image_segmentor(image)\n",
        "print(segmentation_results)\n",
        "\n",
        "plt.figure(figsize=(6,6))\n",
        "plt.imshow(image)\n",
        "plt.axis(\"off\")\n",
        "plt.title(\"Original Image\")\n",
        "plt.show()\n",
        "\n",
        "plt.figure(figsize=(12, 12))\n",
        "for i, result in enumerate(segmentation_results):\n",
        "    mask = result[\"mask\"]  # segmentation mask\n",
        "    label = result[\"label\"]\n",
        "    plt.subplot(1, len(segmentation_results), i+1)\n",
        "    plt.imshow(mask)\n",
        "    plt.axis(\"off\")\n",
        "    plt.title(label)\n",
        "\n",
        "plt.show()"
      ],
      "metadata": {
        "id": "J3pbMxnjsFsi"
      },
      "execution_count": null,
      "outputs": []
    },
    {
      "cell_type": "markdown",
      "source": [
        "**Translation**"
      ],
      "metadata": {
        "id": "vDpzggOImO25"
      }
    },
    {
      "cell_type": "code",
      "source": [
        "translator = pipeline('translation', model='Helsinki-NLP/opus-mt-en-fr')\n",
        "\n",
        "english_text = \"Hello, how are you today?\"\n",
        "\n",
        "translated_text = translator(english_text)\n",
        "\n",
        "print(translated_text)"
      ],
      "metadata": {
        "id": "i8h5PYwbr_8H"
      },
      "execution_count": null,
      "outputs": []
    },
    {
      "cell_type": "markdown",
      "source": [
        "**Zero-Shot Classification**"
      ],
      "metadata": {
        "id": "p9994N4FmdEX"
      }
    },
    {
      "cell_type": "code",
      "source": [
        "zero_shot_classifier = pipeline('zero-shot-classification')\n",
        "\n",
        "sequence_to_classify = \"This is a great movie about the future of AI.\"\n",
        "\n",
        "candidate_labels = [\"politics\", \"technology\", \"entertainment\", \"business\"]\n",
        "\n",
        "classification_results = zero_shot_classifier(sequence_to_classify, candidate_labels)\n",
        "\n",
        "print(classification_results)"
      ],
      "metadata": {
        "id": "VT4kkh_9r73b"
      },
      "execution_count": null,
      "outputs": []
    },
    {
      "cell_type": "markdown",
      "source": [
        "**Image Captioning**"
      ],
      "metadata": {
        "id": "f3cf1CCmmpjZ"
      }
    },
    {
      "cell_type": "code",
      "source": [
        "image_captioner = pipeline('image-to-text', model=\"Salesforce/blip-image-captioning-base\")\n",
        "print(\"Image-to-text pipeline loaded.\")\n",
        "\n",
        "image_url = \"http://images.cocodataset.org/val2017/000000039769.jpg\"\n",
        "\n",
        "response = requests.get(image_url)\n",
        "image = Image.open(BytesIO(response.content))\n",
        "\n",
        "caption_results = image_captioner(image)\n",
        "print(\"Generated Caption:\", caption_results)\n",
        "\n",
        "plt.imshow(image)\n",
        "plt.axis(\"off\")\n",
        "plt.title(caption_results[0][\"generated_text\"], fontsize=12, color=\"blue\")\n",
        "plt.show()"
      ],
      "metadata": {
        "id": "OeYlucVYr0_M"
      },
      "execution_count": null,
      "outputs": []
    }
  ]
}